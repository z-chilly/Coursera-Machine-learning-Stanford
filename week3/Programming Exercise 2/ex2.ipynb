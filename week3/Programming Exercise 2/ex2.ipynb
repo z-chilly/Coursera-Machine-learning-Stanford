{
 "cells": [
  {
   "cell_type": "markdown",
   "metadata": {},
   "source": [
    "# 1 Logistic Regression\n",
    "## 1.1 1.1 Visualizing the data"
   ]
  },
  {
   "cell_type": "code",
   "execution_count": 19,
   "metadata": {},
   "outputs": [],
   "source": [
    "import numpy as np\n",
    "import matplotlib.pyplot as plt"
   ]
  },
  {
   "cell_type": "code",
   "execution_count": 39,
   "metadata": {},
   "outputs": [],
   "source": [
    "data1 = np.loadtxt(open('ex2data1.txt'), delimiter=',')\n",
    "data1_x = data1[:,0]\n",
    "data1_y = data1[:,1]\n",
    "data1_class = data1[:,2]\n",
    "length=len(data1_class)"
   ]
  },
  {
   "cell_type": "code",
   "execution_count": 11,
   "metadata": {},
   "outputs": [],
   "source": [
    "data1_0=data1[data1_class==0]\n",
    "data1_1=data1[data1_class==1]\n",
    "data1_0x=data1_0[:,0]\n",
    "data1_0y=data1_0[:,1]\n",
    "data1_1x=data1_1[:,0]\n",
    "data1_1y=data1_1[:,1]"
   ]
  },
  {
   "cell_type": "code",
   "execution_count": 16,
   "metadata": {},
   "outputs": [
    {
     "data": {
      "text/plain": [
       "<matplotlib.collections.PathCollection at 0x11b2b7210>"
      ]
     },
     "execution_count": 16,
     "metadata": {},
     "output_type": "execute_result"
    },
    {
     "data": {
      "image/png": "[encoded data removed]",
      "text/plain": [
       "<Figure size 432x288 with 1 Axes>"
      ]
     },
     "metadata": {
      "needs_background": "light"
     },
     "output_type": "display_data"
    }
   ],
   "source": [
    "plt.scatter(data1_0x, data1_0y, color='yellow',marker='o',label='not admitted')\n",
    "plt.scatter(data1_1x,data1_1y, color='black',marker='+',label='admitted')"
   ]
  },
  {
   "cell_type": "markdown",
   "metadata": {},
   "source": [
    "## 1.2 Implementation\n",
    "### 1.2.1 Warmup exercise: sigmoid function"
   ]
  },
  {
   "cell_type": "code",
   "execution_count": 25,
   "metadata": {},
   "outputs": [],
   "source": [
    "def sigmoid(x):\n",
    "    return 1/(1+np.exp(-x))  #用numpy实现的话，可以计算实数、矢量和矩阵"
   ]
  },
  {
   "cell_type": "code",
   "execution_count": 26,
   "metadata": {},
   "outputs": [
    {
     "data": {
      "text/plain": [
       "0.5"
      ]
     },
     "execution_count": 26,
     "metadata": {},
     "output_type": "execute_result"
    }
   ],
   "source": [
    "sigmoid(0)"
   ]
  },
  {
   "cell_type": "markdown",
   "metadata": {},
   "source": [
    "### 1.2.2 Cost function and gradient"
   ]
  },
  {
   "cell_type": "code",
   "execution_count": 116,
   "metadata": {},
   "outputs": [],
   "source": [
    "theta = np.array([0,0,0])  #1*3\n",
    "\n",
    "I=np.ones(length)da\n",
    "\n",
    "data1_xin=data1[:,(0,1)]  #100*2\n",
    "data1_xin=data1_xin.reshape(1,100,2)\n",
    "X=np.dstack((I,data1_xin)).reshape(100,3) "
   ]
  },
  {
   "cell_type": "markdown",
   "metadata": {},
   "source": [
    "![](https://tva1.sinaimg.cn/large/006tNbRwgy1g9vg7hflshj315s04st8o.jpg)\n",
    "![](https://tva1.sinaimg.cn/large/006tNbRwgy1g9vgmm2g1yj3172058jrc.jpg)"
   ]
  },
  {
   "cell_type": "code",
   "execution_count": 155,
   "metadata": {},
   "outputs": [],
   "source": [
    "def cost_function(theta,X,data1_class):\n",
    "    h=sigmoid(X.dot(theta.T))   #1*100\n",
    "    J=np.sum((-data1_class)*np.log(h)-(I-data1_class)*np.log(I-h))/length\n",
    "    return J\n",
    "\n",
    "def gradient(theta,X,data1_class):\n",
    "    gradient=np.zeros(3)\n",
    "    h=sigmoid(X.dot(theta.T))\n",
    "    for i in range(0,3):\n",
    "        gradient[i]=np.sum((h-data1_class)*X[:,i].T)/length\n",
    "    return gradient"
   ]
  },
  {
   "cell_type": "markdown",
   "metadata": {},
   "source": [
    "### 1.2.3 Learning parameters using fminunc"
   ]
  },
  {
   "cell_type": "code",
   "execution_count": 160,
   "metadata": {},
   "outputs": [
    {
     "data": {
      "text/plain": [
       "array([ -0.1       , -12.00921659, -11.26284221])"
      ]
     },
     "execution_count": 160,
     "metadata": {},
     "output_type": "execute_result"
    }
   ],
   "source": [
    "gradient(theta,X,data1_class)"
   ]
  },
  {
   "cell_type": "code",
   "execution_count": 184,
   "metadata": {},
   "outputs": [
    {
     "data": {
      "text/plain": [
       "     fun: 0.20349770158947453\n",
       "     jac: array([9.19873730e-09, 1.03652185e-07, 4.85175325e-07])\n",
       " message: 'Local minimum reached (|pg| ~= 0)'\n",
       "    nfev: 36\n",
       "     nit: 17\n",
       "  status: 0\n",
       " success: True\n",
       "       x: array([-25.16131862,   0.20623159,   0.20147149])"
      ]
     },
     "execution_count": 184,
     "metadata": {},
     "output_type": "execute_result"
    }
   ],
   "source": [
    "import scipy.optimize as op\n",
    "result = op.minimize(fun=cost_function, x0=theta, args=(X, data1_class), method='TNC',jac=gradient)\n",
    "result"
   ]
  },
  {
   "cell_type": "code",
   "execution_count": 187,
   "metadata": {},
   "outputs": [
    {
     "data": {
      "text/plain": [
       "[<matplotlib.lines.Line2D at 0x1a1e598f50>]"
      ]
     },
     "execution_count": 187,
     "metadata": {},
     "output_type": "execute_result"
    },
    {
     "data": {
      "image/png": "[encoded data removed]",
      "text/plain": [
       "<Figure size 432x288 with 1 Axes>"
      ]
     },
     "metadata": {
      "needs_background": "light"
     },
     "output_type": "display_data"
    }
   ],
   "source": [
    "a=range(20,100)\n",
    "y=(-result.x[0]-result.x[1]*a)/result.x[2]\n",
    "plt.scatter(data1_0x, data1_0y, color='yellow',marker='o',label='not admitted')\n",
    "plt.scatter(data1_1x,data1_1y, color='black',marker='+',label='admitted')\n",
    "plt.plot(a,y)"
   ]
  },
  {
   "cell_type": "markdown",
   "metadata": {},
   "source": [
    "### 1.2.4 Evaluating logistic regression"
   ]
  },
  {
   "cell_type": "code",
   "execution_count": 190,
   "metadata": {},
   "outputs": [
    {
     "data": {
      "text/plain": [
       "0.7762906233163949"
      ]
     },
     "execution_count": 190,
     "metadata": {},
     "output_type": "execute_result"
    }
   ],
   "source": [
    "x_example=np.array([1,45,85])\n",
    "pro=sigmoid(np.dot(x_example,result.x))\n",
    "pro"
   ]
  },
  {
   "cell_type": "code",
   "execution_count": 195,
   "metadata": {},
   "outputs": [
    {
     "data": {
      "text/plain": [
       "0.8716351971473633"
      ]
     },
     "execution_count": 195,
     "metadata": {},
     "output_type": "execute_result"
    }
   ],
   "source": [
    "learn_class=sigmoid(np.dot(X,result.x))\n",
    "correct=1-np.sum(abs(learn_class-data1_class))/length\n",
    "correct"
   ]
  },
  {
   "cell_type": "markdown",
   "metadata": {},
   "source": [
    "# 2 Regularized logistic regression\n",
    "## 2.1 Visualizing the data"
   ]
  },
  {
   "cell_type": "code",
   "execution_count": 220,
   "metadata": {},
   "outputs": [],
   "source": [
    "data2 = np.loadtxt(open('ex2data2.txt'), delimiter=',')\n",
    "data2_x = data2[:,0]\n",
    "data2_y = data2[:,1]\n",
    "data2_class = data2[:,2]\n",
    "length2=len(data2_class)"
   ]
  },
  {
   "cell_type": "code",
   "execution_count": 221,
   "metadata": {},
   "outputs": [],
   "source": [
    "data2_0=data2[data2_class==0]\n",
    "data2_1=data2[data2_class==1]\n",
    "data2_0x=data2_0[:,0]\n",
    "data2_0y=data2_0[:,1]\n",
    "data2_1x=data2_1[:,0]\n",
    "data2_1y=data2_1[:,1]"
   ]
  },
  {
   "cell_type": "code",
   "execution_count": 222,
   "metadata": {},
   "outputs": [
    {
     "data": {
      "text/plain": [
       "<matplotlib.collections.PathCollection at 0x1a1ea96210>"
      ]
     },
     "execution_count": 222,
     "metadata": {},
     "output_type": "execute_result"
    },
    {
     "data": {
      "image/png": "[encoded data removed]",
      "text/plain": [
       "<Figure size 432x288 with 1 Axes>"
      ]
     },
     "metadata": {
      "needs_background": "light"
     },
     "output_type": "display_data"
    }
   ],
   "source": [
    "plt.scatter(data2_0x, data2_0y, color='orange',marker='o',label='y=0,rejected')\n",
    "plt.scatter(data2_1x,data2_1y, color='black',marker='+',label='y=1,accepted')"
   ]
  },
  {
   "cell_type": "markdown",
   "metadata": {},
   "source": [
    "## 2.2 Feature mapping\n",
    "![](https://tva1.sinaimg.cn/large/006tNbRwgy1g9vrj7x9bsj319e0gkmx6.jpg)"
   ]
  },
  {
   "cell_type": "code",
   "execution_count": 239,
   "metadata": {},
   "outputs": [
    {
     "data": {
      "text/plain": [
       "(28, 118)"
      ]
     },
     "execution_count": 239,
     "metadata": {},
     "output_type": "execute_result"
    }
   ],
   "source": [
    "I2=np.ones(length2)\n",
    "X2=I2\n",
    "\n",
    "for i in range(1,7):\n",
    "    for j in range(0,i+1):\n",
    "        map_temp=(data2_x**(i-j))*(data2_y**j)\n",
    "        X2=np.vstack((X2,map_temp))\n",
    "\n",
    "X2.shape"
   ]
  },
  {
   "cell_type": "markdown",
   "metadata": {},
   "source": [
    "## 2.3 Cost function and gradient\n",
    "![](https://tva1.sinaimg.cn/large/006tNbRwgy1g9vt0880t8j313y05gjrd.jpg)\n",
    "![](https://tva1.sinaimg.cn/large/006tNbRwgy1g9vt0q0fuxj313004ijre.jpg)"
   ]
  },
  {
   "cell_type": "code",
   "execution_count": 290,
   "metadata": {},
   "outputs": [],
   "source": [
    "theta2 = np.zeros(28)\n",
    "\n",
    "def cost_function_reg(theta2, X2, data2_class, lamda):\n",
    "    h2=sigmoid((X2.T).dot(theta2))\n",
    "    J=np.sum((-data2_class)*np.log(h2)-(I2-data2_class)*np.log(I2-h2))/length2+(np.sum(theta2)-theta2[0])*lamda/2/length2\n",
    "    return J\n",
    "\n",
    "\n",
    "def gradient_reg(theta2, X2, data2_class, lamda):\n",
    "    gradient2=np.zeros(28)\n",
    "    h2=sigmoid((X2.T).dot(theta2))\n",
    "    \n",
    "    gradient2[0]=np.sum(h2-data2_class)/length2\n",
    "    for i in range(1,28):\n",
    "        gradient2[i]=np.sum((h2-data2_class)*X2[i,:])/length2 + theta2[i]*lamda/length2\n",
    "    return gradient2"
   ]
  },
  {
   "cell_type": "code",
   "execution_count": 291,
   "metadata": {},
   "outputs": [
    {
     "data": {
      "text/plain": [
       "0.6931471805599454"
      ]
     },
     "execution_count": 291,
     "metadata": {},
     "output_type": "execute_result"
    }
   ],
   "source": [
    "cost_function_reg(theta2, X2, data2_class, 10)"
   ]
  },
  {
   "cell_type": "code",
   "execution_count": 293,
   "metadata": {},
   "outputs": [
    {
     "data": {
      "text/plain": [
       "array([8.47457627e-03, 1.87880932e-02, 7.77711864e-05, 5.03446395e-02,\n",
       "       1.15013308e-02, 3.76648474e-02, 1.83559872e-02, 7.32393391e-03,\n",
       "       8.19244468e-03, 2.34764889e-02, 3.93486234e-02, 2.23923907e-03,\n",
       "       1.28600503e-02, 3.09593720e-03, 3.93028171e-02, 1.99707467e-02,\n",
       "       4.32983232e-03, 3.38643902e-03, 5.83822078e-03, 4.47629067e-03,\n",
       "       3.10079849e-02, 3.10312442e-02, 1.09740238e-03, 6.31570797e-03,\n",
       "       4.08503006e-04, 7.26504316e-03, 1.37646175e-03, 3.87936363e-02])"
      ]
     },
     "execution_count": 293,
     "metadata": {},
     "output_type": "execute_result"
    }
   ],
   "source": [
    "gradient_reg(theta2, X2, data2_class, 10)"
   ]
  },
  {
   "cell_type": "markdown",
   "metadata": {},
   "source": [
    "### 2.3.1 Learning parameters using fminunc"
   ]
  },
  {
   "cell_type": "code",
   "execution_count": 292,
   "metadata": {},
   "outputs": [
    {
     "data": {
      "text/plain": [
       "     fun: 0.49452587302699597\n",
       "     jac: array([-1.17420808e-05, -1.17136314e-05, -8.80748387e-06,  4.46729690e-06,\n",
       "       -5.65421052e-07, -6.02446126e-06, -9.12484854e-06, -3.01865247e-06,\n",
       "       -2.84581993e-06, -8.07378658e-06,  8.60555072e-07, -9.57599440e-07,\n",
       "       -1.69942728e-06, -2.02338306e-06, -6.26761731e-06, -5.85674980e-06,\n",
       "        2.44325446e-06, -2.69826297e-06, -9.37501484e-07, -1.28813129e-06,\n",
       "       -8.44035488e-06, -3.73001906e-06,  1.37629944e-06, -1.58908930e-06,\n",
       "        2.78700100e-06,  1.02315178e-06,  1.91349306e-08, -8.07451616e-06])\n",
       " message: 'Linear search failed'\n",
       "    nfev: 47\n",
       "     nit: 5\n",
       "  status: 4\n",
       " success: False\n",
       "       x: array([ 0.32613899, -0.00821709,  0.16577033, -0.44663485, -0.11177021,\n",
       "       -0.27891117, -0.07152129, -0.05791692, -0.06511922, -0.10640543,\n",
       "       -0.33669997, -0.0129802 , -0.11671703, -0.02811755, -0.28604205,\n",
       "       -0.11619199, -0.03701435, -0.02244832, -0.04887088, -0.04164167,\n",
       "       -0.18680443, -0.25336822, -0.0028935 , -0.0579818 , -0.0004943 ,\n",
       "       -0.06351065, -0.01206343, -0.27153139])"
      ]
     },
     "execution_count": 292,
     "metadata": {},
     "output_type": "execute_result"
    }
   ],
   "source": [
    "lamda=10\n",
    "result2 = op.minimize(fun=cost_function_reg, x0=theta2, args=(X2, data2_class, lamda), method='TNC',jac=gradient_reg)\n",
    "result2"
   ]
  },
  {
   "cell_type": "markdown",
   "metadata": {},
   "source": [
    "## 2.4 Plotting the decision boundary"
   ]
  },
  {
   "cell_type": "code",
   "execution_count": 289,
   "metadata": {},
   "outputs": [
    {
     "ename": "TypeError",
     "evalue": "'type' object is not subscriptable",
     "output_type": "error",
     "traceback": [
      "\u001b[0;31m---------------------------------------------------------------------------\u001b[0m",
      "\u001b[0;31mTypeError\u001b[0m                                 Traceback (most recent call last)",
      "\u001b[0;32m<ipython-input-289-b9ab5c317a28>\u001b[0m in \u001b[0;36m<module>\u001b[0;34m\u001b[0m\n\u001b[1;32m      1\u001b[0m \u001b[0;32mfrom\u001b[0m \u001b[0mscipy\u001b[0m \u001b[0;32mimport\u001b[0m \u001b[0moptimize\u001b[0m\u001b[0;34m\u001b[0m\u001b[0;34m\u001b[0m\u001b[0m\n\u001b[0;32m----> 2\u001b[0;31m \u001b[0mx\u001b[0m\u001b[0;34m=\u001b[0m\u001b[0mlist\u001b[0m\u001b[0;34m[\u001b[0m\u001b[0;34m-\u001b[0m\u001b[0;36m1\u001b[0m\u001b[0;34m:\u001b[0m\u001b[0;36m1.2\u001b[0m\u001b[0;34m]\u001b[0m\u001b[0;34m\u001b[0m\u001b[0;34m\u001b[0m\u001b[0m\n\u001b[0m\u001b[1;32m      3\u001b[0m \u001b[0my\u001b[0m\u001b[0;34m=\u001b[0m\u001b[0mrange\u001b[0m\u001b[0;34m(\u001b[0m\u001b[0;34m-\u001b[0m\u001b[0;36m1\u001b[0m\u001b[0;34m,\u001b[0m\u001b[0;36m2\u001b[0m\u001b[0;34m)\u001b[0m\u001b[0;34m\u001b[0m\u001b[0;34m\u001b[0m\u001b[0m\n\u001b[1;32m      4\u001b[0m \u001b[0mx_plot\u001b[0m\u001b[0;34m=\u001b[0m\u001b[0;36m1\u001b[0m\u001b[0;34m*\u001b[0m\u001b[0mresult2\u001b[0m\u001b[0;34m.\u001b[0m\u001b[0mx\u001b[0m\u001b[0;34m[\u001b[0m\u001b[0;36m0\u001b[0m\u001b[0;34m]\u001b[0m\u001b[0;34m\u001b[0m\u001b[0;34m\u001b[0m\u001b[0m\n\u001b[1;32m      5\u001b[0m \u001b[0;32mfor\u001b[0m \u001b[0mm\u001b[0m \u001b[0;32min\u001b[0m \u001b[0mrange\u001b[0m\u001b[0;34m(\u001b[0m\u001b[0;36m1\u001b[0m\u001b[0;34m,\u001b[0m\u001b[0;36m29\u001b[0m\u001b[0;34m)\u001b[0m\u001b[0;34m:\u001b[0m\u001b[0;34m\u001b[0m\u001b[0;34m\u001b[0m\u001b[0m\n",
      "\u001b[0;31mTypeError\u001b[0m: 'type' object is not subscriptable"
     ]
    }
   ],
   "source": [
    "from scipy import optimize \n",
    "x=range(-1,2)\n",
    "y=range(-1,2)\n",
    "x_plot=1*result2.x[0]\n",
    "for m in range(1,29):\n",
    "    for i in range(1,7):\n",
    "        for j in range(0,i+1):\n",
    "            map_temp=(x**(i-j))*(y**j)\n",
    "            x_plot=xplot+map_temp*result2.x[m]\n",
    "plt.contour(x, y, x_plot, 0)"
   ]
  },
  {
   "cell_type": "code",
   "execution_count": null,
   "metadata": {},
   "outputs": [],
   "source": []
  }
 ],
 "metadata": {
  "kernelspec": {
   "display_name": "Python 3",
   "language": "python",
   "name": "python3"
  },
  "language_info": {
   "codemirror_mode": {
    "name": "ipython",
    "version": 3
   },
   "file_extension": ".py",
   "mimetype": "text/x-python",
   "name": "python",
   "nbconvert_exporter": "python",
   "pygments_lexer": "ipython3",
   "version": "3.7.4"
  }
 },
 "nbformat": 4,
 "nbformat_minor": 2
}
